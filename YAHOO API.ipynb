{
 "cells": [
  {
   "cell_type": "code",
   "execution_count": 3,
   "id": "71e7728b",
   "metadata": {},
   "outputs": [],
   "source": [
    "import datetime\n",
    "import GetOldTweets3 as got\n",
    "import yfinance as yf\n",
    "import matplotlib.pyplot as plt\n",
    "import pandas as pd\n",
    "import numpy as np\n",
    "import csv"
   ]
  },
  {
   "cell_type": "code",
   "execution_count": 4,
   "id": "ddf971fc",
   "metadata": {},
   "outputs": [],
   "source": [
    "import sys\n",
    "import re\n",
    "import string\n",
    "import json\n",
    "import os"
   ]
  },
  {
   "cell_type": "code",
   "execution_count": 5,
   "id": "59255f02",
   "metadata": {},
   "outputs": [],
   "source": [
    "#Get stock data for the given Stock Name\n",
    "def getStockDetails(stockname,start_time,end_time):\n",
    "  company = yf.Ticker(stockname)\n",
    "  company.info.get(\"longName\")\n",
    "  stockData = yf.download(stockname, start=start_time, end=end_time)\n",
    "  print(\"\\n Stock Data Obtained \")\n",
    "  print(stockData.head())\n",
    "  print(\"\\n\")\n",
    "  plt.title('Time series chart of Closing stocks for ' + company.info.get(\"longName\"))\n",
    "  plt.plot(stockData[\"Close\"])\n",
    "  plt.show()\n",
    "  print(\"\\n\")\n",
    "  stockData.to_csv('stockData_' + stockname + '.csv')"
   ]
  },
  {
   "cell_type": "code",
   "execution_count": 11,
   "id": "6be88f99",
   "metadata": {},
   "outputs": [
    {
     "name": "stdout",
     "output_type": "stream",
     "text": [
      "Enter a valid STOCKNAME of the Corporation: \n",
      "Enter the Start Date in the following format[YYYY-MM-DD]: \n",
      "Enter the End Date in the following format[YYYY-MM-DD]: \n",
      "------------------------------ Getting Stock details -----------------------------\n",
      "[*********************100%***********************]  1 of 1 completed\n",
      "\n",
      " Stock Data Obtained \n",
      "                 Open       High        Low      Close  Adj Close     Volume\n",
      "Date                                                                        \n",
      "2018-01-02  42.540001  43.075001  42.314999  43.064999  41.135757  102223600\n",
      "2018-01-03  43.132500  43.637501  42.990002  43.057499  41.128593  118071600\n",
      "2018-01-04  43.134998  43.367500  43.020000  43.257500  41.319626   89738400\n",
      "2018-01-05  43.360001  43.842499  43.262501  43.750000  41.790077   94640000\n",
      "2018-01-08  43.587502  43.902500  43.482498  43.587502  41.634850   82271200\n",
      "\n",
      "\n"
     ]
    },
    {
     "data": {
      "image/png": "[encoded data removed]",
      "text/plain": [
       "<Figure size 432x288 with 1 Axes>"
      ]
     },
     "metadata": {
      "needs_background": "light"
     },
     "output_type": "display_data"
    },
    {
     "name": "stdout",
     "output_type": "stream",
     "text": [
      "\n",
      "\n",
      "Stock Details fetched! \n",
      "\n"
     ]
    }
   ],
   "source": [
    "def main():\n",
    "  name = input(\"Enter a valid STOCKNAME of the Corporation: \") #enter the name of the company\n",
    "  start_date = input(\"Enter the Start Date in the following format[YYYY-MM-DD]: \") #enter the start date to fetch the tweets\n",
    "  end_date = input(\"Enter the End Date in the following format[YYYY-MM-DD]: \" ) #enter the end date to fetch the tweets\n",
    "  \n",
    "  if(len(name) > 0):\n",
    "    STOCKNAME  = name\n",
    "  else:\n",
    "    STOCKNAME = \"AAPL\"\n",
    "  \n",
    "  if(len(start_date) > 0):\n",
    "    start_time = start_date\n",
    "  else:\n",
    "    start_time = \"2018-01-01\"\n",
    "  \n",
    "  if(len(end_date) > 0):\n",
    "    end_time = end_date\n",
    "  else:\n",
    "    end_time = \"2019-12-31\"\n",
    "\n",
    "\n",
    "  #Get Stock Details\n",
    "  print(\"------------------------------ Getting Stock details -----------------------------\")\n",
    "  stockData = getStockDetails(STOCKNAME,start_time,end_time)\n",
    "  print(\"Stock Details fetched! \\n\")\n",
    "    \n",
    "main()"
   ]
  },
  {
   "cell_type": "code",
   "execution_count": null,
   "id": "6df205dd",
   "metadata": {},
   "outputs": [],
   "source": []
  }
 ],
 "metadata": {
  "kernelspec": {
   "display_name": "Python 3",
   "language": "python",
   "name": "python3"
  },
  "language_info": {
   "codemirror_mode": {
    "name": "ipython",
    "version": 3
   },
   "file_extension": ".py",
   "mimetype": "text/x-python",
   "name": "python",
   "nbconvert_exporter": "python",
   "pygments_lexer": "ipython3",
   "version": "3.8.8"
  }
 },
 "nbformat": 4,
 "nbformat_minor": 5
}
